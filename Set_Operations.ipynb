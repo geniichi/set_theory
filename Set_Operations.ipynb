{
 "cells": [
  {
   "cell_type": "markdown",
   "metadata": {},
   "source": [
    "# 3. Set Operations"
   ]
  },
  {
   "cell_type": "markdown",
   "metadata": {},
   "source": [
    "###### U = {1,2,3,4,5}\n",
    "###### A = {1,2,3,4,5}\n",
    "###### B = {4,5,6,7}\n",
    "###### C = {5,6,7,8,9}\n",
    "###### D = {1,3,5,7,9}\n",
    "###### E = {2,4,6,8}\n",
    "###### F = {1,5,9}"
   ]
  },
  {
   "cell_type": "markdown",
   "metadata": {},
   "source": [
    "C = {5,6,7,8,9} $ \\oplus $ D={1,3,5,7,9} => x = {6,8,1,3}"
   ]
  },
  {
   "cell_type": "markdown",
   "metadata": {},
   "source": [
    "A = {1,2,3,4,5} \\ B={4,5,6,7} => x = {1,2,3}"
   ]
  },
  {
   "cell_type": "markdown",
   "metadata": {},
   "source": [
    "B={4,5,6,7} \\ A = {1,2,3,4,5}  => x = {6,7}"
   ]
  },
  {
   "cell_type": "markdown",
   "metadata": {},
   "source": [
    "E={2,4,6,8} $ \\oplus $ F={1,5,9} => x = {1,2,4,5,6,8,9}"
   ]
  }
 ],
 "metadata": {
  "language_info": {
   "name": "python"
  },
  "orig_nbformat": 4
 },
 "nbformat": 4,
 "nbformat_minor": 2
}
