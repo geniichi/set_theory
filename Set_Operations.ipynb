{
 "cells": [
  {
   "cell_type": "markdown",
   "metadata": {},
   "source": [
    "# 3. Set Operations"
   ]
  },
  {
   "cell_type": "markdown",
   "metadata": {},
   "source": [
    "###### U = {1,2,3,4,5}\n",
    "###### A = {1,2,3,4,5}\n",
    "###### B = {4,5,6,7}\n",
    "###### C = {5,6,7,8,9}\n",
    "###### D = {1,3,5,7,9}\n",
    "###### E = {2,4,6,8}\n",
    "###### F = {1,5,9}"
   ]
  },
  {
   "cell_type": "markdown",
   "metadata": {},
   "source": [
    "C = {5,6,7,8,9} $ \\oplus $ D={1,3,5,7,9} => x = {6,8,1,3}"
   ]
  },
  {
   "cell_type": "code",
   "execution_count": 8,
   "metadata": {},
   "outputs": [
    {
     "name": "stdout",
     "output_type": "stream",
     "text": [
      "{1, 3, 6, 8}\n"
     ]
    }
   ],
   "source": [
    "C = {5,6,7,8,9}\n",
    "D = {1,3,5,7,9}\n",
    "\n",
    "xor_result = C ^ D\n",
    "\n",
    "print(xor_result)"
   ]
  },
  {
   "cell_type": "markdown",
   "metadata": {},
   "source": [
    "A = {1,2,3,4,5} \\ B={4,5,6,7} => x = {1,2,3}"
   ]
  },
  {
   "cell_type": "code",
   "execution_count": 10,
   "metadata": {},
   "outputs": [
    {
     "name": "stdout",
     "output_type": "stream",
     "text": [
      "{1, 2, 3}\n"
     ]
    }
   ],
   "source": [
    "A = {1,2,3,4,5}\n",
    "B = {4,5,6,7}\n",
    "\n",
    "difference = A - B\n",
    "\n",
    "print(difference)"
   ]
  },
  {
   "cell_type": "markdown",
   "metadata": {},
   "source": [
    "B={4,5,6,7} \\ A = {1,2,3,4,5}  => x = {6,7}"
   ]
  },
  {
   "cell_type": "code",
   "execution_count": 11,
   "metadata": {},
   "outputs": [
    {
     "name": "stdout",
     "output_type": "stream",
     "text": [
      "{6, 7}\n"
     ]
    }
   ],
   "source": [
    "B = {4,5,6,7}\n",
    "A = {1,2,3,4,5}\n",
    "\n",
    "difference = B - A\n",
    "\n",
    "print(difference)"
   ]
  },
  {
   "cell_type": "markdown",
   "metadata": {},
   "source": [
    "E={2,4,6,8} $ \\oplus $ F={1,5,9} => x = {1,2,4,5,6,8,9}"
   ]
  },
  {
   "cell_type": "code",
   "execution_count": 13,
   "metadata": {},
   "outputs": [
    {
     "name": "stdout",
     "output_type": "stream",
     "text": [
      "{1, 2, 4, 5, 6, 8, 9}\n"
     ]
    }
   ],
   "source": [
    "E = {2,4,6,8}\n",
    "F = {1,5,9}\n",
    "\n",
    "xor_result = E ^ F\n",
    "\n",
    "print(xor_result)"
   ]
  }
 ],
 "metadata": {
  "kernelspec": {
   "display_name": "Python 3",
   "language": "python",
   "name": "python3"
  },
  "language_info": {
   "codemirror_mode": {
    "name": "ipython",
    "version": 3
   },
   "file_extension": ".py",
   "mimetype": "text/x-python",
   "name": "python",
   "nbconvert_exporter": "python",
   "pygments_lexer": "ipython3",
   "version": "3.11.5"
  },
  "orig_nbformat": 4
 },
 "nbformat": 4,
 "nbformat_minor": 2
}
